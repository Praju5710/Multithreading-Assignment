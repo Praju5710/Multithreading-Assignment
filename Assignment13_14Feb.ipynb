{
 "cells": [
  {
   "cell_type": "markdown",
   "id": "ab0c053a-275e-4c30-ac87-9ef3f3b0454b",
   "metadata": {},
   "source": [
    "Q1.  What is multithreading in python? Why is it used? Name the module used to handle threads in python."
   ]
  },
  {
   "cell_type": "markdown",
   "id": "42cb1af1-c78a-41fd-af23-9f4bf4c6e6b3",
   "metadata": {},
   "source": [
    "#### Multithreading in Python refers to the ability to execute multiple threads concurrently within a single program. A thread is a separate flow of execution that can run simultaneously with other threads, sharing the same memory space and resources of a process.\n",
    "\n",
    "#### Multithreading is used in Python to achieve concurrent execution and improve the performance of programs, particularly in scenarios where tasks can be executed independently or involve blocking operations like I/O. By utilizing multiple threads, a program can perform multiple tasks simultaneously, making it more responsive and efficient.\n",
    "\n",
    "#### The primary module used to handle threads in Python is called threading. It provides a high-level interface for creating and managing threads. The threading module offers classes and functions to create new threads, control their execution, synchronize their behavior, and communicate between them. It simplifies the process of working with threads by providing abstractions such as the Thread class, which encapsulates the necessary functionality for creating and managing threads."
   ]
  },
  {
   "cell_type": "markdown",
   "id": "2cd9a539-ca04-4f07-adac-1af9b708fbc5",
   "metadata": {},
   "source": [
    "Q2. Why threading module used? Write the use of the following functions:\n",
    "  1. activeCount()       \n",
    "  2. currentThread()      \n",
    "  3. enumerate()    "
   ]
  },
  {
   "cell_type": "markdown",
   "id": "62da1c9e-34f8-4d00-8368-52896307d4e3",
   "metadata": {},
   "source": [
    "#### The threading module in Python is used to handle threads and provides various functions and classes to manage their execution. Here are the uses of the given functions:\n",
    "\n",
    "#### 1) activeCount(): This function is used to retrieve the number of currently active threads in the program. It returns the number of Thread objects currently alive. It can be helpful for monitoring and debugging purposes, or to check the overall thread activity in a program.\n",
    "\n",
    "#### 2) currentThread(): This function is used to retrieve the current Thread object corresponding to the caller's thread of execution. It returns the Thread object representing the currently executing thread. It can be useful for obtaining information about the current thread, such as its name, ID, or other attributes.\n",
    "\n",
    "#### 3) enumerate(): This function is used to return a list of all Thread objects currently active in the program. It returns a list that contains all the currently alive Thread objects. It allows you to iterate over and access information about all the active threads in the program. This function is often used in scenarios where you need to inspect or manage multiple threads simultaneously."
   ]
  },
  {
   "cell_type": "markdown",
   "id": "d8aad8c9-1603-451f-9d0d-81d484250c68",
   "metadata": {},
   "source": [
    "Q3. Explain the following functions: \n",
    "  1. run() \n",
    "  2. start()\n",
    "  3. join()\n",
    "  4. isAlive()"
   ]
  },
  {
   "cell_type": "markdown",
   "id": "f21ad160-6fbf-480d-93e4-2538724c4a6c",
   "metadata": {},
   "source": [
    "#### 1) run(): The run() method is used to define the behavior of a thread when it is executed. It is typically overridden in a subclass of the Thread class provided by the threading module. The code inside the run() method represents the task or functionality that the thread will execute. When the start() method is called on a thread object, it internally calls the run() method to begin the execution of that thread.\n",
    "\n",
    "#### 2) start(): The start() method is used to start the execution of a thread. It initializes the thread and calls its run() method. When start() is invoked, the thread is placed in the \"runnable\" state, and the operating system's scheduler determines when to actually start executing the thread. It is important to note that start() can only be called once on a thread object. If called again, it will raise a RuntimeError.\n",
    "\n",
    "#### 3) join(): The join() method is used to wait for a thread to complete its execution. When a thread calls the join() method on another thread, it blocks until the other thread has finished its execution. This is particularly useful when you want to ensure that certain operations are completed before moving on to subsequent code. By using join(), you can synchronize the execution of multiple threads and make sure they complete their tasks in a desired order.\n",
    "\n",
    "#### 4) isAlive(): The isAlive() method is used to check whether a thread is currently executing or not. It returns True if the thread is alive and executing, and False otherwise. A thread is considered alive from the moment it is started using start() until it completes its execution. This method is often used to check the status of a thread and make decisions based on its current state, such as whether to wait for it to finish or take alternative actions."
   ]
  },
  {
   "cell_type": "markdown",
   "id": "bb8b7e32-4a9a-456c-9f57-de9cf7840b8e",
   "metadata": {},
   "source": [
    "Q4. Write a python program to create two threads. Thread one must print the list of squares and thread two must print the list of cubes."
   ]
  },
  {
   "cell_type": "code",
   "execution_count": 1,
   "id": "8d9aac8a-7c05-4ba7-81ce-e0ae3a7aaa12",
   "metadata": {},
   "outputs": [],
   "source": [
    "import threading"
   ]
  },
  {
   "cell_type": "code",
   "execution_count": 7,
   "id": "2e606214-2384-4bed-96b4-facf2b3d3365",
   "metadata": {},
   "outputs": [],
   "source": [
    "def sq():\n",
    "    for i in range(1,11):\n",
    "        print(f\"Square of {i}: {i*i}\")\n",
    "\n",
    "def cube():\n",
    "    for i in range(1, 11):\n",
    "        print(f\"Cube of {i}: {i*i*i}\")\n",
    "         "
   ]
  },
  {
   "cell_type": "code",
   "execution_count": 9,
   "id": "7bf3c84a-67f1-475a-bf76-1360c86f6515",
   "metadata": {},
   "outputs": [
    {
     "name": "stdout",
     "output_type": "stream",
     "text": [
      "Square of 1: 1\n",
      "Square of 2: 4\n",
      "Square of 3: 9\n",
      "Square of 4: 16\n",
      "Square of 5: 25\n",
      "Square of 6: 36\n",
      "Square of 7: 49\n",
      "Square of 8: 64\n",
      "Square of 9: 81\n",
      "Square of 10: 100\n",
      "Cube of 1: 1\n",
      "Cube of 2: 8\n",
      "Cube of 3: 27\n",
      "Cube of 4: 64\n",
      "Cube of 5: 125\n",
      "Cube of 6: 216\n",
      "Cube of 7: 343\n",
      "Cube of 8: 512\n",
      "Cube of 9: 729\n",
      "Cube of 10: 1000\n"
     ]
    }
   ],
   "source": [
    "thread1 = threading.Thread(target=sq)\n",
    "thread1.start()\n",
    "thread1.join()\n",
    "thread2 = threading.Thread(target=cube)\n",
    "thread2.start()   \n",
    "thread2.join()"
   ]
  },
  {
   "cell_type": "markdown",
   "id": "50888500-3571-43ef-b2a9-acdaa3d43f28",
   "metadata": {},
   "source": [
    "Q5. State advantages and disadvantages of multithreading."
   ]
  },
  {
   "cell_type": "markdown",
   "id": "3e709a7c-49e5-47f6-a4d4-c34c9da17109",
   "metadata": {},
   "source": [
    "#### Advantages of Multithreading:\n",
    "\n",
    "#### 1) Increased Performance: Multithreading allows for concurrent execution of tasks, which can lead to improved performance and responsiveness. By utilizing multiple threads, a program can effectively utilize the available resources, such as CPU cores, to execute tasks simultaneously.\n",
    "\n",
    "#### 2) Resource Sharing: Threads within a process can share the same memory space, allowing for efficient data sharing and communication. This eliminates the need for complex and time-consuming inter-process communication mechanisms.\n",
    "\n",
    "#### 3) Simplified Program Design: Multithreading allows for the decomposition of complex tasks into smaller, more manageable units of work. This can simplify program design and make it easier to maintain and debug.\n",
    "\n",
    "\n",
    "\n",
    "#### Disadvantages of Multithreading:\n",
    "\n",
    "#### 1) Complexity: Multithreaded programs can be more challenging to design, implement, and debug compared to single-threaded programs. Issues like race conditions, deadlocks, and synchronization errors can occur, making debugging complex.\n",
    "\n",
    "#### 2) Synchronization Overhead: When multiple threads access shared resources or data concurrently, synchronization mechanisms like locks, semaphores, or mutexes must be used to ensure data integrity. Implementing and managing these synchronization mechanisms adds overhead and complexity to the program.\n",
    "\n",
    "#### 3) Increased Memory Usage: Each thread requires its own stack and resources for execution. If a program creates a large number of threads, it can consume a significant amount of memory, potentially affecting the overall performance of the system.\n"
   ]
  },
  {
   "cell_type": "markdown",
   "id": "68841495-a3be-485e-bd5f-4245fc34d85e",
   "metadata": {},
   "source": [
    "Q6. Explain deadlocks and race conditions."
   ]
  },
  {
   "cell_type": "markdown",
   "id": "dbbc8cb1-0719-471f-ae62-d8b512ec92af",
   "metadata": {},
   "source": [
    "#### 1) Deadlocks:\n",
    "#### A deadlock occurs in a multithreaded or multiprocess environment when two or more threads or processes are blocked indefinitely, waiting for each other to release resources. In other words, each thread holds a resource that another thread requires, and both threads are unable to proceed, resulting in a state of deadlock.\n",
    "\n",
    "#### For a deadlock to occur, four conditions must be present:\n",
    "\n",
    "#### 1) Mutual Exclusion: At least one resource must be held in a non-sharable mode, meaning only one thread or process can access it at a time.\n",
    "#### 2) Hold and Wait: A thread/process holding one or more resources is waiting to acquire additional resources held by other threads/processes.\n",
    "#### 3) No Preemption: Resources cannot be forcibly taken away from threads or processes. They can only be released voluntarily by the thread/process holding them.\n",
    "#### 4) Circular Wait: There exists a circular chain of two or more threads/processes, where each thread/process is waiting for a resource held by the next thread/process in the chain.\n",
    "#### Deadlocks can lead to system-wide halts, as the threads or processes involved are unable to proceed. Avoiding deadlocks requires careful resource management, synchronization, and proper ordering of resource acquisitions to break potential circular wait conditions.\n",
    "\n",
    "\n",
    "#### 2) Race Condition:\n",
    "#### A race condition occurs when two or more threads access shared data or resources concurrently, resulting in an unpredictable and incorrect outcome. The behavior of the program becomes dependent on the exact timing and interleaving of thread execution.\n",
    "\n",
    "#### Race conditions typically arise when multiple threads attempt to read and write to shared data simultaneously without proper synchronization. The final outcome depends on the relative timing of the threads, and it may vary from one execution to another. The result is often data corruption, inconsistencies, or incorrect program behavior.\n",
    "\n",
    "#### To mitigate race conditions, proper synchronization mechanisms, such as locks or semaphores, should be used to ensure exclusive access to shared resources. Synchronization ensures that only one thread can access the shared data at a time, preventing conflicting and inconsistent updates. By enforcing proper synchronization, race conditions can be avoided, and the program's correctness can be maintained."
   ]
  },
  {
   "cell_type": "code",
   "execution_count": null,
   "id": "8b4e44b2-aba0-4c13-98a0-6ac297fac43a",
   "metadata": {},
   "outputs": [],
   "source": []
  }
 ],
 "metadata": {
  "kernelspec": {
   "display_name": "Python 3 (ipykernel)",
   "language": "python",
   "name": "python3"
  },
  "language_info": {
   "codemirror_mode": {
    "name": "ipython",
    "version": 3
   },
   "file_extension": ".py",
   "mimetype": "text/x-python",
   "name": "python",
   "nbconvert_exporter": "python",
   "pygments_lexer": "ipython3",
   "version": "3.10.8"
  }
 },
 "nbformat": 4,
 "nbformat_minor": 5
}
